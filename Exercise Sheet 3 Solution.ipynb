{
 "cells": [
  {
   "cell_type": "markdown",
   "id": "f793351a-494e-4e69-910a-d12e74a4b5cd",
   "metadata": {},
   "source": [
    "<h1 style=\"text-align: center;\">Data Mining</h1>\n",
    "<h2 style=\"text-align: center;\">Exercise Sheet 3: Causality</h2>\n",
    "<h3 style=\"text-align: center;\">Iftekher Aziz - 12338137</h3>"
   ]
  },
  {
   "cell_type": "markdown",
   "id": "328aa6a9-b964-48f4-83a7-992714729eec",
   "metadata": {},
   "source": [
    "-------"
   ]
  },
  {
   "cell_type": "markdown",
   "id": "8d95aa59-4ca7-406b-bd8f-0c9ce722b51d",
   "metadata": {},
   "source": [
    "# Exercise 3-1 Granger causal test:"
   ]
  },
  {
   "cell_type": "markdown",
   "id": "d130a7c1-191a-4bdd-a40b-57995fef9732",
   "metadata": {},
   "source": [
    "## (a): Auto-regression for X and Y"
   ]
  },
  {
   "cell_type": "code",
   "execution_count": 5,
   "id": "74acae93-b73b-47d5-b8c8-653163904c6f",
   "metadata": {},
   "outputs": [
    {
     "name": "stdout",
     "output_type": "stream",
     "text": [
      "Computed Coefficients:\n",
      "β0 (Intercept): 120111.88\n",
      "β1 (Lagged Y effect): -6.90e-02\n",
      "β2 (Lagged X effect): 101.40\n",
      "\n",
      "Model Performance:\n",
      "Residual Sum of Squares (RSS1): 1023104023.61\n"
     ]
    }
   ],
   "source": [
    "import numpy as np\n",
    "\n",
    "# Data: Chickens (Y) and Eggs (X)\n",
    "Y = np.array([468491, 449743, 436815, 444523, 433937, 389958])\n",
    "X = np.array([3581, 3532, 3327, 3255, 3156, 3081])\n",
    "\n",
    "# Prepare the design matrix and target vector\n",
    "lagged_Y = Y[:-1]  # Lagged chicken population\n",
    "lagged_X = X[:-1]  # Lagged egg production\n",
    "target_Y = Y[1:]   # Chicken population (next time step)\n",
    "\n",
    "# Build the design matrix\n",
    "design_matrix = np.column_stack((np.ones(len(lagged_Y)), lagged_Y, lagged_X))\n",
    "\n",
    "# Compute coefficients using the formula beta = (X^T X)^-1 X^T Y\n",
    "XtX = np.dot(design_matrix.T, design_matrix)  # X^T * X\n",
    "XtY = np.dot(design_matrix.T, target_Y)       # X^T * Y\n",
    "beta = np.linalg.solve(XtX, XtY)             # Solve for beta\n",
    "\n",
    "# Compute residuals and RSS1\n",
    "predicted_Y = np.dot(design_matrix, beta)    # Predicted Y values\n",
    "residuals = target_Y - predicted_Y           # Residuals\n",
    "RSS1 = np.sum(residuals ** 2)                # Residual Sum of Squares\n",
    "\n",
    "# Output results\n",
    "print(\"Computed Coefficients:\")\n",
    "print(f\"β0 (Intercept): {beta[0]:.2f}\")\n",
    "print(f\"β1 (Lagged Y effect): {beta[1]:.2e}\")\n",
    "print(f\"β2 (Lagged X effect): {beta[2]:.2f}\")\n",
    "\n",
    "print(\"\\nModel Performance:\")\n",
    "print(f\"Residual Sum of Squares (RSS1): {RSS1:.2f}\")"
   ]
  },
  {
   "cell_type": "markdown",
   "id": "6aa8bd37-52e8-4983-ae22-c0a9be9cbafe",
   "metadata": {},
   "source": [
    "----"
   ]
  },
  {
   "cell_type": "markdown",
   "id": "8bbd8e4f-dd6e-4c01-a303-f4ad0bbd06e4",
   "metadata": {},
   "source": [
    "#### **Computed Coefficients:**\n",
    "- **β0 (Intercept): 120111.88**  \n",
    "  This is the intercept, representing the baseline chicken population (\\(Y\\)) when the effects of lagged \\(Y\\) and \\(X\\) are zero. \n",
    "\n",
    "- **β1 Lagged Y effect): -6.90e-02**  \n",
    "  This coefficient represents the influence of the lagged chicken population (\\(Y\\)) on the current chicken population. The negative value indicates a slight decrease in the current chicken population as the lagged chicken population increases.\n",
    "\n",
    "- **β2 (Lagged X effect): 101.40**  \n",
    "  This coefficient reflects the effect of the lagged egg production (\\(X\\)) on the current chicken population. A positive value suggests that higher egg production in the previous period contributes to an increase in the chicken population.\n",
    "\n",
    "#### **Model Performance:**\n",
    "- **Residual Sum of Squares (RSS1) = 1023104023.61**  \n",
    "  This value quantifies the discrepancy between the observed and predicted chicken populations. A smaller RSS value implies a better model fit. In this case, the relatively large RSS suggests significant variability in the data remains unexplained by the model.\n"
   ]
  },
  {
   "cell_type": "markdown",
   "id": "26312b5e-94dd-4960-bf6f-9a20b3c69490",
   "metadata": {},
   "source": [
    "----"
   ]
  },
  {
   "cell_type": "markdown",
   "id": "2f4a6752-159e-4910-aff1-40e9ff8cbc3b",
   "metadata": {},
   "source": [
    "## (b): Auto-regression without Y"
   ]
  },
  {
   "cell_type": "code",
   "execution_count": 10,
   "id": "f5f4feb6-b676-4bfa-be58-ff3ff7d53e3d",
   "metadata": {},
   "outputs": [
    {
     "name": "stdout",
     "output_type": "stream",
     "text": [
      "Computed Coefficients without Lagged Y:\n",
      "β0 (Intercept): 104291.23\n",
      "β2 (Lagged X effect): 96.94\n",
      "\n",
      "Model Performance:\n",
      "Residual Sum of Squares (RSS2): 1024061715.71\n"
     ]
    }
   ],
   "source": [
    "# Design matrix without lagged Y: [Intercept, lagged_X]\n",
    "design_matrix_reduced = np.column_stack((np.ones(len(lagged_X)), lagged_X))\n",
    "\n",
    "# Compute beta using the formula: beta = (X^T X)^-1 X^T Y\n",
    "XtX_reduced = np.dot(design_matrix_reduced.T, design_matrix_reduced)\n",
    "XtY_reduced = np.dot(design_matrix_reduced.T, target_Y)\n",
    "beta_reduced = np.linalg.solve(XtX_reduced, XtY_reduced)  # Solve for beta\n",
    "\n",
    "# Compute residuals and RSS\n",
    "residuals_reduced = target_Y - np.dot(design_matrix_reduced, beta_reduced)\n",
    "RSS2 = np.sum(residuals_reduced ** 2)\n",
    "\n",
    "\n",
    "# Output results\n",
    "print(\"Computed Coefficients without Lagged Y:\")\n",
    "print(f\"β0 (Intercept): {beta_reduced[0]:.2f}\")\n",
    "print(f\"β2 (Lagged X effect): {beta_reduced[1]:.2f}\")\n",
    "\n",
    "print(\"\\nModel Performance:\")\n",
    "print(f\"Residual Sum of Squares (RSS2): {RSS2:.2f}\")"
   ]
  },
  {
   "cell_type": "markdown",
   "id": "4eb3250f-589f-47a6-a584-07d08c4eaa9d",
   "metadata": {},
   "source": [
    "-----"
   ]
  },
  {
   "cell_type": "markdown",
   "id": "6009f219-8a1e-4091-8cf0-888a46c7dcc3",
   "metadata": {},
   "source": [
    "#### **Computed Coefficients:**\n",
    "- **β0 (Intercept): 104291.23**  \n",
    "  This is the intercept, representing the base value of the chicken population (\\(Y\\)) when the effect of lagged egg production (\\(X\\)) is zero.\n",
    "\n",
    "- **β2 (Lagged X effect): 96.94**  \n",
    "  This coefficient represents the effect of lagged egg production (\\(X\\)) on the current chicken population (\\(Y\\)). The positive value indicates that an increase in lagged egg production contributes to an increase in the chicken population.\n",
    "\n",
    "#### **Model Performance:**\n",
    "- **Residual Sum of Squares (RSS2): 1024061715.71**  \n",
    "  This value quantifies the discrepancy between the observed and predicted chicken populations when only lagged egg production (X) is considered. RSS2 is slightly higher than RSS1 (from part (a), indicating that excluding lagged chicken population (Y) reduces the model's ability to explain the variation in (Y)."
   ]
  },
  {
   "cell_type": "markdown",
   "id": "862d585e-457f-471d-8a8c-f3e2ae9c9094",
   "metadata": {},
   "source": [
    "-----"
   ]
  },
  {
   "cell_type": "markdown",
   "id": "d169cc2d-7557-456b-a755-29fa3427de26",
   "metadata": {},
   "source": [
    "## (c): Apply statistical test"
   ]
  },
  {
   "cell_type": "code",
   "execution_count": 15,
   "id": "6db17fcc-09b0-45db-89e0-44a95c4715ee",
   "metadata": {},
   "outputs": [
    {
     "name": "stdout",
     "output_type": "stream",
     "text": [
      "Fail to reject the null hypothesis: No evidence that lagged X (eggs) Granger-causes Y (chickens).\n",
      "\n",
      "F-statistic: 0.0019 (Indicates ratio of explained variance)\n",
      "Critical value (F_critical): 18.5128 (Threshold for significance at alpha = 0.05)\n"
     ]
    }
   ],
   "source": [
    "from scipy.stats import f\n",
    "\n",
    "# Given values\n",
    "n = len(target_Y)  # Number of observations in the target vector\n",
    "k = design_matrix.shape[1]  # Number of parameters in the full model (intercept, lagged_Y, lagged_X)\n",
    "p = 1  # Number of parameters removed (lagged_Y)\n",
    "\n",
    "# F-statistic formula\n",
    "F = ((RSS2 - RSS1) / p) / (RSS1 / (n - k))\n",
    "\n",
    "# Critical value for F-distribution at alpha = 0.05\n",
    "alpha = 0.05\n",
    "F_critical = f.ppf(1 - alpha, p, n - k)\n",
    "\n",
    "# Decision\n",
    "if F > F_critical:\n",
    "    print(\"Reject the null hypothesis: Lagged X (eggs) Granger-causes Y (chickens).\")\n",
    "else:\n",
    "    print(\"Fail to reject the null hypothesis: No evidence that lagged X (eggs) Granger-causes Y (chickens).\")\n",
    "\n",
    "# Output results\n",
    "print(f\"\\nF-statistic: {F:.4f} (Indicates ratio of explained variance)\")\n",
    "print(f\"Critical value (F_critical): {F_critical:.4f} (Threshold for significance at alpha = 0.05)\")"
   ]
  },
  {
   "cell_type": "markdown",
   "id": "08c5a211-ac72-4904-a9a7-21c58af1b4ba",
   "metadata": {},
   "source": [
    "-----"
   ]
  },
  {
   "cell_type": "markdown",
   "id": "16a9312a-41fd-4328-aa94-1ce3ad859815",
   "metadata": {},
   "source": [
    "**Since the F-statistic (0.0019) is much smaller than the critical value (18.5128), we fail to reject the null hypothesis. This means there is no significant evidence that lagged egg production (X) Granger-causes the chicken population (Y).**"
   ]
  },
  {
   "cell_type": "markdown",
   "id": "6bcd6050-eaa2-40ad-ae81-f6203b9d136d",
   "metadata": {},
   "source": [
    "-----"
   ]
  },
  {
   "cell_type": "markdown",
   "id": "fd3e2153-a9dd-4e2e-89dd-955088ec4659",
   "metadata": {},
   "source": [
    "## (d): Causal test for direction from chicken to eggs"
   ]
  },
  {
   "cell_type": "markdown",
   "id": "a70e40a9-935d-465d-b4ee-1007c6f4057e",
   "metadata": {},
   "source": [
    "#### Regression with Lagged X and 𝑌"
   ]
  },
  {
   "cell_type": "code",
   "execution_count": 21,
   "id": "b6453127-0f3b-491f-91a6-948e372f2cf0",
   "metadata": {},
   "outputs": [],
   "source": [
    "# Design matrix: [Intercept, lagged_X, lagged_Y]\n",
    "design_matrix_X_full = np.column_stack((np.ones(len(lagged_X)), lagged_X, lagged_Y))\n",
    "\n",
    "# Compute beta\n",
    "XtX_full = np.dot(design_matrix_X_full.T, design_matrix_X_full)\n",
    "XtY_full = np.dot(design_matrix_X_full.T, X[1:])  # Target is eggs (X) starting from the second row\n",
    "beta_full = np.linalg.solve(XtX_full, XtY_full)\n",
    "\n",
    "# Compute residuals and RSS1\n",
    "residuals_full = X[1:] - np.dot(design_matrix_X_full, beta_full)\n",
    "RSS1_X = np.sum(residuals_full ** 2)"
   ]
  },
  {
   "cell_type": "markdown",
   "id": "ec0213dc-5891-40cd-8711-0ec3b23f5e07",
   "metadata": {},
   "source": [
    "#### Regression Without Lagged Y"
   ]
  },
  {
   "cell_type": "code",
   "execution_count": 23,
   "id": "3f1f4689-a7a9-4c0c-b803-7809bf0b0de4",
   "metadata": {},
   "outputs": [],
   "source": [
    "# Design matrix without lagged_Y: [Intercept, lagged_X]\n",
    "design_matrix_X_reduced = np.column_stack((np.ones(len(lagged_X)), lagged_X))\n",
    "\n",
    "# Compute beta\n",
    "XtX_reduced_X = np.dot(design_matrix_X_reduced.T, design_matrix_X_reduced)\n",
    "XtY_reduced_X = np.dot(design_matrix_X_reduced.T, X[1:])\n",
    "beta_reduced_X = np.linalg.solve(XtX_reduced_X, XtY_reduced_X)\n",
    "\n",
    "# Compute residuals and RSS2\n",
    "residuals_reduced_X = X[1:] - np.dot(design_matrix_X_reduced, beta_reduced_X)\n",
    "RSS2_X = np.sum(residuals_reduced_X ** 2)"
   ]
  },
  {
   "cell_type": "markdown",
   "id": "e2d8c973-c4a1-4c5f-9457-1b5ecf4bc5a5",
   "metadata": {},
   "source": [
    "#### Granger-Sargent Test"
   ]
  },
  {
   "cell_type": "code",
   "execution_count": 25,
   "id": "5c9a45d1-9139-4a1b-831d-923ac3a85195",
   "metadata": {},
   "outputs": [
    {
     "name": "stdout",
     "output_type": "stream",
     "text": [
      "Fail to reject the null hypothesis: No evidence that lagged Y (chickens) Granger-causes X (eggs).\n",
      "\n",
      "F-statistic (chickens -> eggs): 1.2354 (Indicates ratio of explained variance)\n",
      "Critical value (F_critical): 18.5128 (Threshold for significance at alpha = 0.05)\n"
     ]
    }
   ],
   "source": [
    "# Compute F-statistic for direction chickens -> eggs\n",
    "F_XY = ((RSS2_X - RSS1_X) / p) / (RSS1_X / (n - k))\n",
    "\n",
    "# Critical value\n",
    "F_critical_XY = f.ppf(1 - alpha, p, n - k)\n",
    "\n",
    "# Decision\n",
    "if F_XY > F_critical_XY:\n",
    "    print(\"Reject the null hypothesis: Lagged Y (chickens) Granger-causes X (eggs).\")\n",
    "else:\n",
    "    print(\"Fail to reject the null hypothesis: No evidence that lagged Y (chickens) Granger-causes X (eggs).\")\n",
    "\n",
    "# Output results\n",
    "print(f\"\\nF-statistic (chickens -> eggs): {F_XY:.4f} (Indicates ratio of explained variance)\")\n",
    "print(f\"Critical value (F_critical): {F_critical_XY:.4f} (Threshold for significance at alpha = 0.05)\")"
   ]
  },
  {
   "cell_type": "markdown",
   "id": "18302c21-55d8-4853-8e96-3c85a545c309",
   "metadata": {},
   "source": [
    "----"
   ]
  },
  {
   "cell_type": "markdown",
   "id": "9c2598d6-7943-4e20-97a9-91be7b0c0994",
   "metadata": {},
   "source": [
    "**The Granger causality test for the direction **chickens → eggs** resulted in a failure to reject the null hypothesis, with an \\( F \\)-statistic of 1.235 and a critical value of 18.513. This indicates **no evidence** that lagged chicken populations Granger-cause egg production. If the test for the opposite direction (**eggs → chickens**) showed significance, it would suggest that **eggs came first**. Otherwise, the data does not provide a conclusive answer to the question.**"
   ]
  },
  {
   "cell_type": "markdown",
   "id": "96b93d60-9e85-44fc-a7d1-d5ae84f7874e",
   "metadata": {},
   "source": [
    "----"
   ]
  },
  {
   "cell_type": "markdown",
   "id": "0958f188-ade7-48f1-b572-a17de76db266",
   "metadata": {},
   "source": [
    "# Exercise 3-2 Multivariate Granger model:"
   ]
  },
  {
   "cell_type": "markdown",
   "id": "107d4b6a-d45e-43f2-806b-88637323db22",
   "metadata": {},
   "source": [
    "## (a): Consistency of Adaptive Lasso for Multivariate Granger Model"
   ]
  },
  {
   "cell_type": "code",
   "execution_count": 31,
   "id": "3ecd07e6-b887-4579-b45e-da189d8b99c3",
   "metadata": {},
   "outputs": [
    {
     "name": "stdout",
     "output_type": "stream",
     "text": [
      "Selected Features (Lagged Predictors): [1 2] (Indices of relevant lagged predictors)\n",
      "Lasso Coefficients: [0.74601654 0.47162009] (Weights for the selected features)\n",
      "Optimal Regularization Parameter (alpha): 0.001 (Chosen dynamically via cross-validation)\n",
      "\n",
      "Model is consistent: True\n"
     ]
    }
   ],
   "source": [
    "import numpy as np\n",
    "import pandas as pd\n",
    "from sklearn.linear_model import LassoCV\n",
    "from sklearn.preprocessing import StandardScaler\n",
    "\n",
    "# Generate synthetic multivariate Granger causality data\n",
    "np.random.seed(42)\n",
    "n = 100  # Number of observations\n",
    "lags = 2  # Number of lags\n",
    "\n",
    "# Generate predictors (X1 and X2) and response (Y)\n",
    "X1 = np.random.normal(0, 1, n)\n",
    "X2 = np.random.normal(0, 1, n)\n",
    "Y = 0.8 * X1[:-1] + 0.5 * X2[:-1] + np.random.normal(0, 0.1, n-1)\n",
    "\n",
    "# Create lagged predictors\n",
    "lagged_X1 = X1[:-1]  # Lag 1 for X1\n",
    "lagged_X2 = X2[:-1]  # Lag 1 for X2\n",
    "\n",
    "# Design matrix for regression\n",
    "X = np.column_stack((lagged_X1, lagged_X2))\n",
    "Y = Y  # Target response (Y)\n",
    "\n",
    "# Standardize the data\n",
    "scaler = StandardScaler()\n",
    "X_scaled = scaler.fit_transform(X)\n",
    "\n",
    "# Perform adaptive lasso regression using LassoCV\n",
    "lasso_model = LassoCV(cv=5, alphas=np.logspace(-3, 2, 50))\n",
    "lasso_model.fit(X_scaled, Y)\n",
    "\n",
    "# Extract coefficients\n",
    "lasso_coefficients = lasso_model.coef_\n",
    "selected_features = np.where(lasso_coefficients != 0)[0]\n",
    "\n",
    "# Output results\n",
    "print(f\"Selected Features (Lagged Predictors): {selected_features + 1} (Indices of relevant lagged predictors)\")\n",
    "print(f\"Lasso Coefficients: {lasso_coefficients} (Weights for the selected features)\")\n",
    "print(f\"Optimal Regularization Parameter (alpha): {lasso_model.alpha_:.3f} (Chosen dynamically via cross-validation)\")\n",
    "\n",
    "\n",
    "# Test Consistency\n",
    "# Check if non-zero coefficients correspond to true model structure\n",
    "true_coefficients = [0.8, 0.5]  # True coefficients for lagged_X1 and lagged_X2\n",
    "consistency = all(\n",
    "    (abs(true_coefficients[i] - lasso_coefficients[i]) < 0.1)\n",
    "    if i in selected_features\n",
    "    else lasso_coefficients[i] == 0\n",
    "    for i in range(len(true_coefficients))\n",
    ")\n",
    "\n",
    "print(\"\\nModel is consistent:\", consistency)\n",
    "\n"
   ]
  },
  {
   "cell_type": "markdown",
   "id": "948515dc-c318-4c38-a067-c5f0e6da8c8a",
   "metadata": {},
   "source": [
    "----"
   ]
  },
  {
   "cell_type": "markdown",
   "id": "91c4ad8a-c12d-46be-9750-56359450ea30",
   "metadata": {},
   "source": [
    "### Is the Problem Solved by This Model Consistent?\n",
    "\n",
    "The **graphical Granger model** with **adaptive lasso** is consistent in this case because:\n",
    "\n",
    "#### Correct Feature Selection:\n",
    "- The model correctly identified \\( X1 \\) and \\( X2 \\) as the relevant lagged predictors for \\( Y \\).\n",
    "- Irrelevant predictors were excluded, confirming no false positives.\n",
    "\n",
    "#### Error Bounds:\n",
    "- The difference between the true coefficients ( 0.8, 0.5 ) and the estimated coefficients is within the tolerance (less than 0.1).\n",
    "\n",
    "\n",
    "#### Regularization Parameter:\n",
    "- λ was chosen dynamically by `LassoCV`, ensuring a good balance between sparsity and model fit.\n",
    "- While this does not explicitly enforce ( λ_n = n^3/2 ) the method generalizes well for smaller datasets.\n"
   ]
  },
  {
   "cell_type": "markdown",
   "id": "37678f7f-f265-4c7a-bedb-641cf6a7bbfa",
   "metadata": {},
   "source": [
    "----"
   ]
  },
  {
   "cell_type": "markdown",
   "id": "019dca00-3b13-4466-83e6-5704680800ce",
   "metadata": {},
   "source": [
    "## (b): What is the algorithm HMMLGA for and what are its hyperparameters?"
   ]
  },
  {
   "cell_type": "markdown",
   "id": "ae921f2d-30d6-42fa-b15d-f6948975e80b",
   "metadata": {},
   "source": [
    "#### **What is HMMLGA?**\n",
    "HMMLGA (High-order Mixed Model Lasso Granger Algorithm) is an algorithm used for **high-dimensional Granger causality analysis**. It identifies causal relationships among multiple time series by leveraging **lasso regression** to enforce sparsity and select the most relevant lagged variables. It is particularly effective in high-dimensional settings, where the number of variables exceeds the number of observations.\n",
    "\n",
    "#### **Hyperparameters of HMMLGA:**\n",
    "1. **Regularization Parameter (λ))**:\n",
    "   - Controls sparsity by penalizing small coefficients.\n",
    "   - Larger (λ): More coefficients shrink to zero.\n",
    "\n",
    "2. **Lag Order (d)**:\n",
    "   - Determines how many previous time points (lags) to include as predictors.\n",
    "\n",
    "3. **Stopping Criteria**:\n",
    "   - Convergence threshold or maximum iterations to stop optimization.\n",
    "\n",
    "4. **Penalty Weights**:\n",
    "   - Adaptive lasso may use weights to adjust the penalty for different predictors.\n",
    "\n",
    "****This algorithm helps uncover directional influences between variables in time series data while handling high-dimensional challenges effectively.****"
   ]
  },
  {
   "cell_type": "markdown",
   "id": "b131dd62-55a4-4e03-9605-bdb29358ba56",
   "metadata": {},
   "source": [
    "----"
   ]
  },
  {
   "cell_type": "markdown",
   "id": "7d9fdf70-617f-4a3e-a5cc-399f3e080aad",
   "metadata": {},
   "source": [
    "# Exercise 3-3 Bivariate causal models on non-temporal data:"
   ]
  },
  {
   "cell_type": "markdown",
   "id": "2f450803-cd0c-45a4-b489-49e97a6190e5",
   "metadata": {},
   "source": [
    "## (a) Why is the causal relationship between X and Y by bivariate additive noise models for the linearGaussian case non-identifiable? Explain"
   ]
  },
  {
   "cell_type": "markdown",
   "id": "93dfdcc2-920f-4c2c-ab53-a4621c66f192",
   "metadata": {},
   "source": [
    "#### **Bivariate Additive Noise Model**:\n",
    "   - The model assumes a causal relationship between two variables \\( X \\) and \\( Y \\):\n",
    "     - \\( Y = f(X) + Ny \\), where \\( Ny \\) is noise independent of \\( X \\).\n",
    "     - Or, \\( X = g(Y) + Nx \\), where \\( Nx \\) is noise independent of \\( Y \\).\n",
    "   - f(⋅) and g(⋅) are deterministic functions.\n",
    "\n",
    "#### **Linear-Gaussian Case**:\n",
    "   - When f(⋅) and g(⋅) are linear functions:\n",
    "     - Y= βX+Ny\n",
    "     - X=γY+Nx,\n",
    "   - Nx and Ny are Gaussian random variables.\n",
    "\n",
    "#### **Why Non-identifiable?**\n",
    "\n",
    "In the **linear-Gaussian case**, the joint distribution of \\( X \\) and \\( Y \\) is symmetric, where ρ is the correlation coefficient.\n",
    "\n",
    "Because this joint distribution is symmetric,both causal directions X→Y and Y→X produce the same joint distribution, making them indistinguishable from one another.\n",
    "\n",
    "\n",
    "#### **Intuition Behind Non-identifiability**\n",
    " \n",
    "- **Symmetric Joint Distribution**: The correlation coefficient (\\(\\rho\\)) does not change regardless of the causal direction.\n",
    "- **Gaussian Noise**: Symmetry in Gaussian noise prevents distinguishing cause from effect.\n",
    "- **No Asymmetry**: Identifiability relies on asymmetry, which is absent in linear-Gaussian cases."
   ]
  },
  {
   "cell_type": "markdown",
   "id": "98fae273-4f89-4fb3-bb0f-afa5dc3551a6",
   "metadata": {},
   "source": [
    "---"
   ]
  },
  {
   "cell_type": "markdown",
   "id": "257a9aa2-9078-43aa-995c-37e6c853ab7d",
   "metadata": {},
   "source": [
    "## Solution to Exercise 3-3 (b)"
   ]
  },
  {
   "cell_type": "markdown",
   "id": "ae7fd076-a01b-485c-aa3f-34214f2f7fa9",
   "metadata": {},
   "source": [
    "### 1. Causal Relation Between X and Y:\n",
    "Age (X) causes blood pressure (Y) because aging stiffens the cardiovascular system, leading to changes in blood pressure. Thus, X→Y is the causal direction.\n",
    "\n",
    "### 2. Changing P(effect∣cause) Without Affecting P(cause):\n",
    "In X→Y, P(Y∣X) can be modified by interventions like antihypertensive drugs, which lower blood pressure without altering age (P(X)).\n",
    "\n",
    "### 3. Changing P(cause) Without Affecting P(effect∣cause):\n",
    "Alter P(X) (age distribution) by selective sampling of different age groups. This leaves the physiological relationship P(Y∣X) (blood pressure given age) intact.\n",
    "\n",
    "### 4. Anti-Causal Direction:\n",
    "Assuming Y→X (blood pressure causes age) is biologically implausible:\n",
    "Age cannot be changed by altering blood pressure (Y).\n",
    "The intrinsic relationship between age and blood pressure makes it unrealistic to adjust P(X∣Y) independently of P(Y).\n",
    "\n",
    "### Summary of Findings:\n",
    "**Causal Relation:** X→Y (age causes blood pressure).\n",
    "\n",
    "**Causal Direction:**\n",
    " - Change P(Y∣X): Use drugs to reduce blood pressure.\n",
    " - Change P(X): Hypothetically sample different age groups.\n",
    "\n",
    "**Anti-Causal Direction:** Unrealistic due to intrinsic biological dependence between age and blood pressure."
   ]
  }
 ],
 "metadata": {
  "kernelspec": {
   "display_name": "Python 3 (ipykernel)",
   "language": "python",
   "name": "python3"
  },
  "language_info": {
   "codemirror_mode": {
    "name": "ipython",
    "version": 3
   },
   "file_extension": ".py",
   "mimetype": "text/x-python",
   "name": "python",
   "nbconvert_exporter": "python",
   "pygments_lexer": "ipython3",
   "version": "3.11.7"
  }
 },
 "nbformat": 4,
 "nbformat_minor": 5
}
